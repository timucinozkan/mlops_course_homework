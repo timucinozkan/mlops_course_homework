{
 "cells": [
  {
   "cell_type": "code",
   "execution_count": 45,
   "id": "fc69f945-db99-459a-9b70-db0cbca84030",
   "metadata": {},
   "outputs": [],
   "source": [
    "import pandas as pd\n",
    "from sklearn.feature_extraction import DictVectorizer\n",
    "from sklearn.linear_model import LinearRegression\n",
    "from sklearn.metrics import root_mean_squared_error"
   ]
  },
  {
   "cell_type": "code",
   "execution_count": 46,
   "id": "8d0a6ba9-c984-4b83-8cd8-826e54481436",
   "metadata": {},
   "outputs": [],
   "source": [
    "# Reading parquet files as train/val dataframes\n",
    "train_df = pd.read_parquet('./data/yellow_tripdata_2023-01.parquet')\n",
    "val_df = pd.read_parquet('./data/yellow_tripdata_2023-02.parquet')"
   ]
  },
  {
   "cell_type": "code",
   "execution_count": 47,
   "id": "096a9124-12b6-4a4f-a061-3b13e9dc5a2b",
   "metadata": {},
   "outputs": [
    {
     "data": {
      "text/plain": [
       "19"
      ]
     },
     "execution_count": 47,
     "metadata": {},
     "output_type": "execute_result"
    }
   ],
   "source": [
    "#Q1 Reading the data for January. How many columns are there?\n",
    "\n",
    "len(train_df.columns)"
   ]
  },
  {
   "cell_type": "code",
   "execution_count": 48,
   "id": "fad60111-3d0b-44a3-8be1-f691fbb9d5d5",
   "metadata": {},
   "outputs": [
    {
     "data": {
      "text/plain": [
       "42.594351241920904"
      ]
     },
     "execution_count": 48,
     "metadata": {},
     "output_type": "execute_result"
    }
   ],
   "source": [
    "#Q2 What's the standard deviation of the trips duration in January?\n",
    "\n",
    "# Adding the new feature for duration\n",
    "train_df['duration'] = train_df.tpep_dropoff_datetime - train_df.tpep_pickup_datetime\n",
    "# Changing format of the duration column\n",
    "train_df.duration = train_df.duration.apply(lambda td: td.total_seconds() / 60)\n",
    "# Calculating standart deviation of duration\n",
    "train_df['duration'].std()"
   ]
  },
  {
   "cell_type": "code",
   "execution_count": 49,
   "id": "9a1757be-f63a-4d83-b4a1-ee7f658ff2f2",
   "metadata": {},
   "outputs": [
    {
     "data": {
      "text/plain": [
       "0.9812202822125979"
      ]
     },
     "execution_count": 49,
     "metadata": {},
     "output_type": "execute_result"
    }
   ],
   "source": [
    "#Q3 What fraction of the records left after you dropped the outliers?\n",
    "\n",
    "# Calculating the fraction\n",
    "((train_df['duration'] >= 1) & (train_df['duration'] <= 60)).mean()"
   ]
  },
  {
   "cell_type": "code",
   "execution_count": 50,
   "id": "650714f8-a546-47ed-a7e7-32dbbfacc347",
   "metadata": {},
   "outputs": [],
   "source": [
    "# Filtering df for to 1 - 60 mins range\n",
    "train_df = train_df[((train_df['duration'] >= 1) & (train_df['duration'] <= 60))]"
   ]
  },
  {
   "cell_type": "code",
   "execution_count": 51,
   "id": "1ced9a13-e6e6-473c-b537-4d6cd5e7250a",
   "metadata": {},
   "outputs": [
    {
     "data": {
      "text/plain": [
       "515"
      ]
     },
     "execution_count": 51,
     "metadata": {},
     "output_type": "execute_result"
    }
   ],
   "source": [
    "#Q4 What's the dimensionality of this matrix (number of columns)?\n",
    "\n",
    "\n",
    "# Grouping necessary features\n",
    "categorical = ['PULocationID','DOLocationID']\n",
    "\n",
    "# Changing type of categorical to str\n",
    "train_df[categorical] = train_df[categorical].astype(str) \n",
    "\n",
    "# Applying one-hot encoding to categorical features\n",
    "dv = DictVectorizer()\n",
    "train_dict = train_df[categorical].to_dict(orient='records')\n",
    "X_train = dv.fit_transform(train_dict)\n",
    "len(dv.feature_names_)"
   ]
  },
  {
   "cell_type": "code",
   "execution_count": 52,
   "id": "026b404f-1f8d-4691-bea5-c7db09f58f38",
   "metadata": {},
   "outputs": [],
   "source": [
    "#Q5 What's the RMSE on train?\n",
    "\n",
    "\n",
    "target = 'duration'\n",
    "y_train = train_df[target].values\n",
    "\n",
    "# Training the model\n",
    "lr = LinearRegression()\n",
    "lr.fit(X_train, y_train)\n",
    "\n",
    "# Predicting target\n",
    "y_pred = lr.predict(X_train)"
   ]
  },
  {
   "cell_type": "code",
   "execution_count": 31,
   "id": "bd27b38a-bed6-4766-ac98-4558c4cb3f36",
   "metadata": {},
   "outputs": [
    {
     "data": {
      "text/plain": [
       "7.6492619633678824"
      ]
     },
     "execution_count": 31,
     "metadata": {},
     "output_type": "execute_result"
    }
   ],
   "source": [
    "# Calculating the RMSE\n",
    "root_mean_squared_error(y_train, y_pred)"
   ]
  },
  {
   "cell_type": "code",
   "execution_count": 54,
   "id": "50ad47bc-ba00-4f0c-9cef-58e052311ba0",
   "metadata": {},
   "outputs": [
    {
     "data": {
      "text/plain": [
       "7.81181893596011"
      ]
     },
     "execution_count": 54,
     "metadata": {},
     "output_type": "execute_result"
    }
   ],
   "source": [
    "#Q6 What's the RMSE on validation?\n",
    "\n",
    "\n",
    "# Preparing val_df \n",
    "val_df = pd.read_parquet('./data/yellow_tripdata_2023-02.parquet')\n",
    "val_df['duration'] = val_df.tpep_dropoff_datetime - val_df.tpep_pickup_datetime\n",
    "val_df.duration = val_df.duration.apply(lambda td: td.total_seconds() / 60)\n",
    "val_df = val_df[((val_df['duration'] >= 1) & (val_df['duration'] <= 60))]\n",
    "categorical = ['PULocationID','DOLocationID']\n",
    "val_df[categorical] = val_df[categorical].astype(str)\n",
    "val_dict = val_df[categorical].to_dict(orient='records')\n",
    "X_val = dv.transform(val_dict)\n",
    "y_val = val_df[target].values\n",
    "\n",
    "# Predicting for validation\n",
    "y_pred_val = lr.predict(X_val)\n",
    "\n",
    "# Calculating the RMSE\n",
    "root_mean_squared_error(y_val, y_pred_val)"
   ]
  }
 ],
 "metadata": {
  "kernelspec": {
   "display_name": "Python 3 (ipykernel)",
   "language": "python",
   "name": "python3"
  },
  "language_info": {
   "codemirror_mode": {
    "name": "ipython",
    "version": 3
   },
   "file_extension": ".py",
   "mimetype": "text/x-python",
   "name": "python",
   "nbconvert_exporter": "python",
   "pygments_lexer": "ipython3",
   "version": "3.12.4"
  }
 },
 "nbformat": 4,
 "nbformat_minor": 5
}
