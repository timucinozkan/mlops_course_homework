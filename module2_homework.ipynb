{
 "cells": [
  {
   "cell_type": "code",
   "execution_count": 5,
   "metadata": {},
   "outputs": [
    {
     "name": "stdout",
     "output_type": "stream",
     "text": [
      "2.16.0\n"
     ]
    }
   ],
   "source": [
    "#Q1 Install MLFlow\n",
    "# What's the version that you have? \n",
    "\n",
    "import mlflow\n",
    "\n",
    "print(mlflow.__version__)"
   ]
  },
  {
   "cell_type": "code",
   "execution_count": 7,
   "metadata": {},
   "outputs": [
    {
     "data": {
      "text/plain": [
       "4"
      ]
     },
     "execution_count": 7,
     "metadata": {},
     "output_type": "execute_result"
    }
   ],
   "source": [
    "#Q2 Download and preprocess the data \n",
    "# How many files were saved to OUTPUT_FOLDER\n",
    "\n",
    "!python preprocess_data.py --raw_data_path './data' --dest_path ./output\n",
    "output_files = !ls output/\n",
    "len(output_files)"
   ]
  },
  {
   "cell_type": "code",
   "execution_count": 25,
   "metadata": {},
   "outputs": [
    {
     "name": "stdout",
     "output_type": "stream",
     "text": [
      "2024/09/11 14:01:33 INFO mlflow.tracking.fluent: Experiment with name 'nyc_taxi' does not exist. Creating a new experiment.\n",
      "2024/09/11 14:01:33 INFO mlflow.tracking.fluent: Autologging successfully enabled for sklearn.\n",
      "2024/09/11 14:01:34 WARNING mlflow.sklearn: Failed to log training dataset information to MLflow Tracking. Reason: 'numpy.ndarray' object has no attribute 'toarray'\n",
      "/home/ubuntu/anaconda3/envs/module-2-env/lib/python3.12/site-packages/sklearn/metrics/_regression.py:492: FutureWarning: 'squared' is deprecated in version 1.4 and will be removed in 1.6. To calculate the root mean squared error, use the function'root_mean_squared_error'.\n",
      "  warnings.warn(\n",
      "min_samples_split is: 2\n",
      "2024/09/11 14:01:54 INFO mlflow.tracking._tracking_service.client: 🏃 View run glamorous-mouse-624 at: http://127.0.0.1:5000/#/experiments/1/runs/ef0a50bf2b804dbca81929b69caa5874.\n",
      "2024/09/11 14:01:54 INFO mlflow.tracking._tracking_service.client: 🧪 View experiment at: http://127.0.0.1:5000/#/experiments/1.\n"
     ]
    }
   ],
   "source": [
    "#Q3 Train a model with autolog\n",
    "# What is the value of the 'min_samples_split' parameter? \n",
    "\n",
    "!python train.py"
   ]
  },
  {
   "cell_type": "code",
   "execution_count": 26,
   "metadata": {},
   "outputs": [
    {
     "name": "stdout",
     "output_type": "stream",
     "text": [
      "mlflow server --backend-store-uri sqlite:///mlflow.db --default-artifact-root ./artifacts_local\n"
     ]
    }
   ],
   "source": [
    "#Q4 Launch the tracking server locally\n",
    "# In addition to backend-store-uri, what else do you need to pass to properly configure the server? \n",
    "\n",
    "print('mlflow server --backend-store-uri sqlite:///mlflow.db --default-artifact-root ./artifacts_local')"
   ]
  },
  {
   "cell_type": "code",
   "execution_count": 53,
   "metadata": {},
   "outputs": [
    {
     "name": "stdout",
     "output_type": "stream",
     "text": [
      "  0%|                                    | 0/15 [00:00<?, ?trial/s, best loss=?]/home/ubuntu/anaconda3/envs/module-2-env/lib/python3.12/site-packages/sklearn/metrics/_regression.py:492: FutureWarning: 'squared' is deprecated in version 1.4 and will be removed in 1.6. To calculate the root mean squared error, use the function'root_mean_squared_error'.\n",
      "  warnings.warn(\n",
      "\n",
      "2024/09/11 16:18:03 INFO mlflow.tracking._tracking_service.client: 🏃 View run experiment1 at: http://127.0.0.1:5000/#/experiments/2/runs/40745df4c957440d9b60d65601c4bd25.\n",
      "\n",
      "2024/09/11 16:18:03 INFO mlflow.tracking._tracking_service.client: 🧪 View experiment at: http://127.0.0.1:5000/#/experiments/2.\n",
      "\n",
      "  7%|▋          | 1/15 [00:09<02:18,  9.93s/trial, best loss: 5.370086069268862]/home/ubuntu/anaconda3/envs/module-2-env/lib/python3.12/site-packages/sklearn/metrics/_regression.py:492: FutureWarning: 'squared' is deprecated in version 1.4 and will be removed in 1.6. To calculate the root mean squared error, use the function'root_mean_squared_error'.\n",
      "  warnings.warn(\n",
      "\n",
      "2024/09/11 16:18:04 INFO mlflow.tracking._tracking_service.client: 🏃 View run experiment1 at: http://127.0.0.1:5000/#/experiments/2/runs/8e68542da55b48eaa55ca488e89001bd.\n",
      "\n",
      "2024/09/11 16:18:04 INFO mlflow.tracking._tracking_service.client: 🧪 View experiment at: http://127.0.0.1:5000/#/experiments/2.\n",
      "\n",
      " 13%|█▍         | 2/15 [00:10<00:56,  4.38s/trial, best loss: 5.370086069268862]/home/ubuntu/anaconda3/envs/module-2-env/lib/python3.12/site-packages/sklearn/metrics/_regression.py:492: FutureWarning: 'squared' is deprecated in version 1.4 and will be removed in 1.6. To calculate the root mean squared error, use the function'root_mean_squared_error'.\n",
      "  warnings.warn(\n",
      "\n",
      "2024/09/11 16:18:04 INFO mlflow.tracking._tracking_service.client: 🏃 View run experiment1 at: http://127.0.0.1:5000/#/experiments/2/runs/defdea0fd8b345ab8959bb4c4468bae3.\n",
      "\n",
      "2024/09/11 16:18:04 INFO mlflow.tracking._tracking_service.client: 🧪 View experiment at: http://127.0.0.1:5000/#/experiments/2.\n",
      "\n",
      " 20%|██▏        | 3/15 [00:11<00:32,  2.71s/trial, best loss: 5.370086069268862]/home/ubuntu/anaconda3/envs/module-2-env/lib/python3.12/site-packages/sklearn/metrics/_regression.py:492: FutureWarning: 'squared' is deprecated in version 1.4 and will be removed in 1.6. To calculate the root mean squared error, use the function'root_mean_squared_error'.\n",
      "  warnings.warn(\n",
      "\n",
      "2024/09/11 16:18:11 INFO mlflow.tracking._tracking_service.client: 🏃 View run experiment1 at: http://127.0.0.1:5000/#/experiments/2/runs/253e29b38a634042a760297803edca4f.\n",
      "\n",
      "2024/09/11 16:18:11 INFO mlflow.tracking._tracking_service.client: 🧪 View experiment at: http://127.0.0.1:5000/#/experiments/2.\n",
      "\n",
      " 27%|██▉        | 4/15 [00:17<00:47,  4.32s/trial, best loss: 5.357490752366866]/home/ubuntu/anaconda3/envs/module-2-env/lib/python3.12/site-packages/sklearn/metrics/_regression.py:492: FutureWarning: 'squared' is deprecated in version 1.4 and will be removed in 1.6. To calculate the root mean squared error, use the function'root_mean_squared_error'.\n",
      "  warnings.warn(\n",
      "\n",
      "2024/09/11 16:18:15 INFO mlflow.tracking._tracking_service.client: 🏃 View run experiment1 at: http://127.0.0.1:5000/#/experiments/2/runs/a053079d212b43188a20efccd7d59570.\n",
      "\n",
      "2024/09/11 16:18:15 INFO mlflow.tracking._tracking_service.client: 🧪 View experiment at: http://127.0.0.1:5000/#/experiments/2.\n",
      "\n",
      " 33%|███▋       | 5/15 [00:21<00:39,  3.96s/trial, best loss: 5.357490752366866]/home/ubuntu/anaconda3/envs/module-2-env/lib/python3.12/site-packages/sklearn/metrics/_regression.py:492: FutureWarning: 'squared' is deprecated in version 1.4 and will be removed in 1.6. To calculate the root mean squared error, use the function'root_mean_squared_error'.\n",
      "  warnings.warn(\n",
      "\n",
      "2024/09/11 16:18:26 INFO mlflow.tracking._tracking_service.client: 🏃 View run experiment1 at: http://127.0.0.1:5000/#/experiments/2/runs/19b91eaad83e4c44b6677645e853ad24.\n",
      "\n",
      "2024/09/11 16:18:26 INFO mlflow.tracking._tracking_service.client: 🧪 View experiment at: http://127.0.0.1:5000/#/experiments/2.\n",
      "\n",
      " 40%|████▍      | 6/15 [00:32<00:58,  6.53s/trial, best loss: 5.354695072530291]/home/ubuntu/anaconda3/envs/module-2-env/lib/python3.12/site-packages/sklearn/metrics/_regression.py:492: FutureWarning: 'squared' is deprecated in version 1.4 and will be removed in 1.6. To calculate the root mean squared error, use the function'root_mean_squared_error'.\n",
      "  warnings.warn(\n",
      "\n",
      "2024/09/11 16:18:38 INFO mlflow.tracking._tracking_service.client: 🏃 View run experiment1 at: http://127.0.0.1:5000/#/experiments/2/runs/c78424ff788e4958b7bed3d4c2f54b18.\n",
      "\n",
      "2024/09/11 16:18:38 INFO mlflow.tracking._tracking_service.client: 🧪 View experiment at: http://127.0.0.1:5000/#/experiments/2.\n",
      "\n",
      " 47%|█████▏     | 7/15 [00:44<01:05,  8.14s/trial, best loss: 5.354695072530291]/home/ubuntu/anaconda3/envs/module-2-env/lib/python3.12/site-packages/sklearn/metrics/_regression.py:492: FutureWarning: 'squared' is deprecated in version 1.4 and will be removed in 1.6. To calculate the root mean squared error, use the function'root_mean_squared_error'.\n",
      "  warnings.warn(\n",
      "\n",
      "2024/09/11 16:18:39 INFO mlflow.tracking._tracking_service.client: 🏃 View run experiment1 at: http://127.0.0.1:5000/#/experiments/2/runs/1a8be228260546da8e88dbe91f7eae1c.\n",
      "\n",
      "2024/09/11 16:18:39 INFO mlflow.tracking._tracking_service.client: 🧪 View experiment at: http://127.0.0.1:5000/#/experiments/2.\n",
      "\n",
      " 53%|█████▊     | 8/15 [00:45<00:41,  5.94s/trial, best loss: 5.354695072530291]/home/ubuntu/anaconda3/envs/module-2-env/lib/python3.12/site-packages/sklearn/metrics/_regression.py:492: FutureWarning: 'squared' is deprecated in version 1.4 and will be removed in 1.6. To calculate the root mean squared error, use the function'root_mean_squared_error'.\n",
      "  warnings.warn(\n",
      "\n",
      "2024/09/11 16:18:46 INFO mlflow.tracking._tracking_service.client: 🏃 View run experiment1 at: http://127.0.0.1:5000/#/experiments/2/runs/0eb0ee85a48f4cb498e4ad3e49aa8f61.\n",
      "\n",
      "2024/09/11 16:18:46 INFO mlflow.tracking._tracking_service.client: 🧪 View experiment at: http://127.0.0.1:5000/#/experiments/2.\n",
      "\n",
      " 60%|██████▌    | 9/15 [00:52<00:37,  6.28s/trial, best loss: 5.354695072530291]/home/ubuntu/anaconda3/envs/module-2-env/lib/python3.12/site-packages/sklearn/metrics/_regression.py:492: FutureWarning: 'squared' is deprecated in version 1.4 and will be removed in 1.6. To calculate the root mean squared error, use the function'root_mean_squared_error'.\n",
      "  warnings.warn(\n",
      "\n",
      "2024/09/11 16:18:51 INFO mlflow.tracking._tracking_service.client: 🏃 View run experiment1 at: http://127.0.0.1:5000/#/experiments/2/runs/1473db6bf6b64eb9b9a7bfd77c92b2c7.\n",
      "\n",
      "2024/09/11 16:18:51 INFO mlflow.tracking._tracking_service.client: 🧪 View experiment at: http://127.0.0.1:5000/#/experiments/2.\n",
      "\n",
      " 67%|██████▋   | 10/15 [00:58<00:30,  6.10s/trial, best loss: 5.354695072530291]/home/ubuntu/anaconda3/envs/module-2-env/lib/python3.12/site-packages/sklearn/metrics/_regression.py:492: FutureWarning: 'squared' is deprecated in version 1.4 and will be removed in 1.6. To calculate the root mean squared error, use the function'root_mean_squared_error'.\n",
      "  warnings.warn(\n",
      "\n",
      "2024/09/11 16:18:56 INFO mlflow.tracking._tracking_service.client: 🏃 View run experiment1 at: http://127.0.0.1:5000/#/experiments/2/runs/3a2df635a06042f99f04342e1a082286.\n",
      "\n",
      "2024/09/11 16:18:56 INFO mlflow.tracking._tracking_service.client: 🧪 View experiment at: http://127.0.0.1:5000/#/experiments/2.\n",
      "\n",
      " 73%|███████▎  | 11/15 [01:02<00:22,  5.60s/trial, best loss: 5.335419588556921]/home/ubuntu/anaconda3/envs/module-2-env/lib/python3.12/site-packages/sklearn/metrics/_regression.py:492: FutureWarning: 'squared' is deprecated in version 1.4 and will be removed in 1.6. To calculate the root mean squared error, use the function'root_mean_squared_error'.\n",
      "  warnings.warn(\n",
      "\n",
      "2024/09/11 16:19:00 INFO mlflow.tracking._tracking_service.client: 🏃 View run experiment1 at: http://127.0.0.1:5000/#/experiments/2/runs/a2940b6d075140ff8f8b99959266897c.\n",
      "\n",
      "2024/09/11 16:19:00 INFO mlflow.tracking._tracking_service.client: 🧪 View experiment at: http://127.0.0.1:5000/#/experiments/2.\n",
      "\n",
      " 80%|████████  | 12/15 [01:06<00:14,  5.00s/trial, best loss: 5.335419588556921]/home/ubuntu/anaconda3/envs/module-2-env/lib/python3.12/site-packages/sklearn/metrics/_regression.py:492: FutureWarning: 'squared' is deprecated in version 1.4 and will be removed in 1.6. To calculate the root mean squared error, use the function'root_mean_squared_error'.\n",
      "  warnings.warn(\n",
      "\n",
      "2024/09/11 16:19:01 INFO mlflow.tracking._tracking_service.client: 🏃 View run experiment1 at: http://127.0.0.1:5000/#/experiments/2/runs/f6bcc090506c4b7ba2658cada459f73c.\n",
      "\n",
      "2024/09/11 16:19:01 INFO mlflow.tracking._tracking_service.client: 🧪 View experiment at: http://127.0.0.1:5000/#/experiments/2.\n",
      "\n",
      " 87%|████████▋ | 13/15 [01:07<00:07,  3.85s/trial, best loss: 5.335419588556921]/home/ubuntu/anaconda3/envs/module-2-env/lib/python3.12/site-packages/sklearn/metrics/_regression.py:492: FutureWarning: 'squared' is deprecated in version 1.4 and will be removed in 1.6. To calculate the root mean squared error, use the function'root_mean_squared_error'.\n",
      "  warnings.warn(\n",
      "\n",
      "2024/09/11 16:19:05 INFO mlflow.tracking._tracking_service.client: 🏃 View run experiment1 at: http://127.0.0.1:5000/#/experiments/2/runs/a210048a7b37497b9d22247f369f60a7.\n",
      "\n",
      "2024/09/11 16:19:05 INFO mlflow.tracking._tracking_service.client: 🧪 View experiment at: http://127.0.0.1:5000/#/experiments/2.\n",
      "\n",
      " 93%|█████████▎| 14/15 [01:11<00:03,  3.94s/trial, best loss: 5.335419588556921]/home/ubuntu/anaconda3/envs/module-2-env/lib/python3.12/site-packages/sklearn/metrics/_regression.py:492: FutureWarning: 'squared' is deprecated in version 1.4 and will be removed in 1.6. To calculate the root mean squared error, use the function'root_mean_squared_error'.\n",
      "  warnings.warn(\n",
      "\n",
      "2024/09/11 16:19:12 INFO mlflow.tracking._tracking_service.client: 🏃 View run experiment1 at: http://127.0.0.1:5000/#/experiments/2/runs/09c6ede879b442dfaffcd5f1697fb834.\n",
      "\n",
      "2024/09/11 16:19:12 INFO mlflow.tracking._tracking_service.client: 🧪 View experiment at: http://127.0.0.1:5000/#/experiments/2.\n",
      "\n",
      "100%|██████████| 15/15 [01:18<00:00,  5.22s/trial, best loss: 5.335419588556921]\n"
     ]
    }
   ],
   "source": [
    "#Q5 Tune Model hyperparameters\n",
    "# What's the best validation RMSE that you got? \n",
    "!python hpo.py"
   ]
  },
  {
   "cell_type": "code",
   "execution_count": 54,
   "metadata": {},
   "outputs": [
    {
     "name": "stdout",
     "output_type": "stream",
     "text": [
      "2024/09/11 16:20:52 WARNING mlflow.sklearn: Failed to log training dataset information to MLflow Tracking. Reason: 'numpy.ndarray' object has no attribute 'toarray'\n",
      "/home/ubuntu/anaconda3/envs/module-2-env/lib/python3.12/site-packages/sklearn/metrics/_regression.py:492: FutureWarning: 'squared' is deprecated in version 1.4 and will be removed in 1.6. To calculate the root mean squared error, use the function'root_mean_squared_error'.\n",
      "  warnings.warn(\n",
      "/home/ubuntu/anaconda3/envs/module-2-env/lib/python3.12/site-packages/sklearn/metrics/_regression.py:492: FutureWarning: 'squared' is deprecated in version 1.4 and will be removed in 1.6. To calculate the root mean squared error, use the function'root_mean_squared_error'.\n",
      "  warnings.warn(\n",
      "2024/09/11 16:21:04 INFO mlflow.tracking._tracking_service.client: 🏃 View run fortunate-hound-212 at: http://127.0.0.1:5000/#/experiments/3/runs/09f8c59fc50444f6bb75fa67e3c29b49.\n",
      "2024/09/11 16:21:04 INFO mlflow.tracking._tracking_service.client: 🧪 View experiment at: http://127.0.0.1:5000/#/experiments/3.\n",
      "2024/09/11 16:21:04 WARNING mlflow.sklearn: Failed to log training dataset information to MLflow Tracking. Reason: 'numpy.ndarray' object has no attribute 'toarray'\n",
      "/home/ubuntu/anaconda3/envs/module-2-env/lib/python3.12/site-packages/sklearn/metrics/_regression.py:492: FutureWarning: 'squared' is deprecated in version 1.4 and will be removed in 1.6. To calculate the root mean squared error, use the function'root_mean_squared_error'.\n",
      "  warnings.warn(\n",
      "/home/ubuntu/anaconda3/envs/module-2-env/lib/python3.12/site-packages/sklearn/metrics/_regression.py:492: FutureWarning: 'squared' is deprecated in version 1.4 and will be removed in 1.6. To calculate the root mean squared error, use the function'root_mean_squared_error'.\n",
      "  warnings.warn(\n",
      "2024/09/11 16:21:16 INFO mlflow.tracking._tracking_service.client: 🏃 View run dapper-kit-426 at: http://127.0.0.1:5000/#/experiments/3/runs/ac572b18379a4a9b814573ffe331fd5b.\n",
      "2024/09/11 16:21:16 INFO mlflow.tracking._tracking_service.client: 🧪 View experiment at: http://127.0.0.1:5000/#/experiments/3.\n",
      "2024/09/11 16:21:16 WARNING mlflow.sklearn: Failed to log training dataset information to MLflow Tracking. Reason: 'numpy.ndarray' object has no attribute 'toarray'\n",
      "/home/ubuntu/anaconda3/envs/module-2-env/lib/python3.12/site-packages/sklearn/metrics/_regression.py:492: FutureWarning: 'squared' is deprecated in version 1.4 and will be removed in 1.6. To calculate the root mean squared error, use the function'root_mean_squared_error'.\n",
      "  warnings.warn(\n",
      "/home/ubuntu/anaconda3/envs/module-2-env/lib/python3.12/site-packages/sklearn/metrics/_regression.py:492: FutureWarning: 'squared' is deprecated in version 1.4 and will be removed in 1.6. To calculate the root mean squared error, use the function'root_mean_squared_error'.\n",
      "  warnings.warn(\n",
      "2024/09/11 16:21:27 INFO mlflow.tracking._tracking_service.client: 🏃 View run wise-bird-293 at: http://127.0.0.1:5000/#/experiments/3/runs/730edf0f7e4b4187a382f2e3e267d514.\n",
      "2024/09/11 16:21:27 INFO mlflow.tracking._tracking_service.client: 🧪 View experiment at: http://127.0.0.1:5000/#/experiments/3.\n",
      "2024/09/11 16:21:28 WARNING mlflow.sklearn: Failed to log training dataset information to MLflow Tracking. Reason: 'numpy.ndarray' object has no attribute 'toarray'\n",
      "/home/ubuntu/anaconda3/envs/module-2-env/lib/python3.12/site-packages/sklearn/metrics/_regression.py:492: FutureWarning: 'squared' is deprecated in version 1.4 and will be removed in 1.6. To calculate the root mean squared error, use the function'root_mean_squared_error'.\n",
      "  warnings.warn(\n",
      "/home/ubuntu/anaconda3/envs/module-2-env/lib/python3.12/site-packages/sklearn/metrics/_regression.py:492: FutureWarning: 'squared' is deprecated in version 1.4 and will be removed in 1.6. To calculate the root mean squared error, use the function'root_mean_squared_error'.\n",
      "  warnings.warn(\n",
      "2024/09/11 16:21:39 INFO mlflow.tracking._tracking_service.client: 🏃 View run sneaky-worm-65 at: http://127.0.0.1:5000/#/experiments/3/runs/a649262d8c564fb68512d1457d158f3d.\n",
      "2024/09/11 16:21:39 INFO mlflow.tracking._tracking_service.client: 🧪 View experiment at: http://127.0.0.1:5000/#/experiments/3.\n",
      "2024/09/11 16:21:39 WARNING mlflow.sklearn: Failed to log training dataset information to MLflow Tracking. Reason: 'numpy.ndarray' object has no attribute 'toarray'\n",
      "/home/ubuntu/anaconda3/envs/module-2-env/lib/python3.12/site-packages/sklearn/metrics/_regression.py:492: FutureWarning: 'squared' is deprecated in version 1.4 and will be removed in 1.6. To calculate the root mean squared error, use the function'root_mean_squared_error'.\n",
      "  warnings.warn(\n",
      "/home/ubuntu/anaconda3/envs/module-2-env/lib/python3.12/site-packages/sklearn/metrics/_regression.py:492: FutureWarning: 'squared' is deprecated in version 1.4 and will be removed in 1.6. To calculate the root mean squared error, use the function'root_mean_squared_error'.\n",
      "  warnings.warn(\n",
      "2024/09/11 16:21:58 INFO mlflow.tracking._tracking_service.client: 🏃 View run selective-ape-443 at: http://127.0.0.1:5000/#/experiments/3/runs/59e31e228f5f4c64ba35a85b4730c0a4.\n",
      "2024/09/11 16:21:58 INFO mlflow.tracking._tracking_service.client: 🧪 View experiment at: http://127.0.0.1:5000/#/experiments/3.\n",
      "Registered model 'random-forest-best-models Best Model' already exists. Creating a new version of this model...\n",
      "2024/09/11 16:21:58 INFO mlflow.store.model_registry.abstract_store: Waiting up to 300 seconds for model version to finish creation. Model name: random-forest-best-models Best Model, version 5\n",
      "Created version '5' of model 'random-forest-best-models Best Model'.\n",
      "Test RMSE of the best model is: 5.567408012462019\n"
     ]
    }
   ],
   "source": [
    "#Q6 Promote the best model to the model registry\n",
    "# What is the test RMSE of the best model?\n",
    "!python register_model.py"
   ]
  }
 ],
 "metadata": {
  "kernelspec": {
   "display_name": "Python 3 (ipykernel)",
   "language": "python",
   "name": "python3"
  },
  "language_info": {
   "codemirror_mode": {
    "name": "ipython",
    "version": 3
   },
   "file_extension": ".py",
   "mimetype": "text/x-python",
   "name": "python",
   "nbconvert_exporter": "python",
   "pygments_lexer": "ipython3",
   "version": "3.12.4"
  }
 },
 "nbformat": 4,
 "nbformat_minor": 4
}
